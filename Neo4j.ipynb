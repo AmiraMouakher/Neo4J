{
 "cells": [
  {
   "cell_type": "markdown",
   "id": "fe229ca8",
   "metadata": {},
   "source": [
    "# Tutorial d'initiation Neo4j"
   ]
  },
  {
   "cell_type": "markdown",
   "id": "188145df",
   "metadata": {},
   "source": [
    "### Partie 1 : \"Airport routes graph\""
   ]
  },
  {
   "cell_type": "markdown",
   "id": "e01c3577",
   "metadata": {},
   "source": [
    "Tout d'abord il faut créer ta propre instance Sandbox sur https://dev.neo4j.com/sandbox. \n",
    "Sandbox Neo4j est un environnement virtuel gratuit et isolé dans lequel vous pouvez expérimenter avec la base de données Neo4j sans affecter un environnement de production. "
   ]
  },
  {
   "cell_type": "markdown",
   "id": "cc059bd9",
   "metadata": {},
   "source": [
    "#### Installation des librairies necessaires :"
   ]
  },
  {
   "cell_type": "code",
   "execution_count": null,
   "id": "07066076",
   "metadata": {
    "scrolled": true
   },
   "outputs": [],
   "source": [
    "pip install neo4j"
   ]
  },
  {
   "cell_type": "code",
   "execution_count": null,
   "id": "92a7f79d",
   "metadata": {},
   "outputs": [],
   "source": [
    "pip install graphdatascience"
   ]
  },
  {
   "cell_type": "code",
   "execution_count": 70,
   "id": "443132b3",
   "metadata": {},
   "outputs": [],
   "source": [
    "import pandas as pd\n",
    "\n",
    "from graphdatascience import GraphDataScience"
   ]
  },
  {
   "cell_type": "markdown",
   "id": "1ad550c7",
   "metadata": {},
   "source": [
    "#### Connexion à Neo4j :"
   ]
  },
  {
   "cell_type": "code",
   "execution_count": 73,
   "id": "cc6f80b3",
   "metadata": {},
   "outputs": [],
   "source": [
    "url = 'bolt://3.86.234.148:7687'\n",
    "pwd = 'comments-shipment-puddle'"
   ]
  },
  {
   "cell_type": "code",
   "execution_count": 74,
   "id": "41661bdf",
   "metadata": {},
   "outputs": [],
   "source": [
    "gds = GraphDataScience(url, auth=(\"neo4j\", pwd))"
   ]
  },
  {
   "cell_type": "markdown",
   "id": "764be46b",
   "metadata": {},
   "source": [
    "On peut aller sur Neo4j pour visualiser le schéma du graphe et lancer la commande Cypher suivante :                          CALL db.schema.visualization()\n",
    "Maintenant qu'on est connecté sur Neo4j, nous allons lancer une requete cypher pour vérifier la taille de notre graphe."
   ]
  },
  {
   "cell_type": "code",
   "execution_count": 75,
   "id": "bd063f90",
   "metadata": {},
   "outputs": [
    {
     "data": {
      "text/html": [
       "<div>\n",
       "<style scoped>\n",
       "    .dataframe tbody tr th:only-of-type {\n",
       "        vertical-align: middle;\n",
       "    }\n",
       "\n",
       "    .dataframe tbody tr th {\n",
       "        vertical-align: top;\n",
       "    }\n",
       "\n",
       "    .dataframe thead th {\n",
       "        text-align: right;\n",
       "    }\n",
       "</style>\n",
       "<table border=\"1\" class=\"dataframe\">\n",
       "  <thead>\n",
       "    <tr style=\"text-align: right;\">\n",
       "      <th></th>\n",
       "      <th>count</th>\n",
       "    </tr>\n",
       "  </thead>\n",
       "  <tbody>\n",
       "    <tr>\n",
       "      <th>0</th>\n",
       "      <td>8628</td>\n",
       "    </tr>\n",
       "  </tbody>\n",
       "</table>\n",
       "</div>"
      ],
      "text/plain": [
       "   count\n",
       "0   8628"
      ]
     },
     "execution_count": 75,
     "metadata": {},
     "output_type": "execute_result"
    }
   ],
   "source": [
    "query = 'MATCH (n) RETURN COUNT(n) AS count'\n",
    "gds.run_cypher(query)"
   ]
  },
  {
   "cell_type": "markdown",
   "id": "c4c332cc",
   "metadata": {},
   "source": [
    "#### Analyse exploratoire de données :"
   ]
  },
  {
   "cell_type": "markdown",
   "id": "002e526c",
   "metadata": {},
   "source": [
    "Examiner la distribution du nombre d'aéroports par continent :"
   ]
  },
  {
   "cell_type": "code",
   "execution_count": 76,
   "id": "1c77ce8b",
   "metadata": {
    "scrolled": true
   },
   "outputs": [
    {
     "data": {
      "text/html": [
       "<div>\n",
       "<style scoped>\n",
       "    .dataframe tbody tr th:only-of-type {\n",
       "        vertical-align: middle;\n",
       "    }\n",
       "\n",
       "    .dataframe tbody tr th {\n",
       "        vertical-align: top;\n",
       "    }\n",
       "\n",
       "    .dataframe thead th {\n",
       "        text-align: right;\n",
       "    }\n",
       "</style>\n",
       "<table border=\"1\" class=\"dataframe\">\n",
       "  <thead>\n",
       "    <tr style=\"text-align: right;\">\n",
       "      <th></th>\n",
       "      <th>continentName</th>\n",
       "      <th>numAirports</th>\n",
       "    </tr>\n",
       "  </thead>\n",
       "  <tbody>\n",
       "    <tr>\n",
       "      <th>0</th>\n",
       "      <td>NA</td>\n",
       "      <td>989</td>\n",
       "    </tr>\n",
       "    <tr>\n",
       "      <th>1</th>\n",
       "      <td>AS</td>\n",
       "      <td>971</td>\n",
       "    </tr>\n",
       "    <tr>\n",
       "      <th>2</th>\n",
       "      <td>EU</td>\n",
       "      <td>605</td>\n",
       "    </tr>\n",
       "    <tr>\n",
       "      <th>3</th>\n",
       "      <td>AF</td>\n",
       "      <td>321</td>\n",
       "    </tr>\n",
       "    <tr>\n",
       "      <th>4</th>\n",
       "      <td>SA</td>\n",
       "      <td>313</td>\n",
       "    </tr>\n",
       "    <tr>\n",
       "      <th>5</th>\n",
       "      <td>OC</td>\n",
       "      <td>304</td>\n",
       "    </tr>\n",
       "  </tbody>\n",
       "</table>\n",
       "</div>"
      ],
      "text/plain": [
       "  continentName  numAirports\n",
       "0            NA          989\n",
       "1            AS          971\n",
       "2            EU          605\n",
       "3            AF          321\n",
       "4            SA          313\n",
       "5            OC          304"
      ]
     },
     "execution_count": 76,
     "metadata": {},
     "output_type": "execute_result"
    }
   ],
   "source": [
    "query = 'MATCH (:Airport)-[:ON_CONTINENT]->(c:Continent) RETURN c.name AS continentName, count(*) AS numAirports ORDER BY numAirports DESC'\n",
    "gds.run_cypher(query)"
   ]
  },
  {
   "cell_type": "markdown",
   "id": "28ee3926",
   "metadata": {},
   "source": [
    "Calculer le minimum, le maximum, la moyenne et l'écart-type du nombre de vols au départ de chaque aéroport :"
   ]
  },
  {
   "cell_type": "code",
   "execution_count": 77,
   "id": "d69e6c12",
   "metadata": {
    "scrolled": false
   },
   "outputs": [
    {
     "data": {
      "text/html": [
       "<div>\n",
       "<style scoped>\n",
       "    .dataframe tbody tr th:only-of-type {\n",
       "        vertical-align: middle;\n",
       "    }\n",
       "\n",
       "    .dataframe tbody tr th {\n",
       "        vertical-align: top;\n",
       "    }\n",
       "\n",
       "    .dataframe thead th {\n",
       "        text-align: right;\n",
       "    }\n",
       "</style>\n",
       "<table border=\"1\" class=\"dataframe\">\n",
       "  <thead>\n",
       "    <tr style=\"text-align: right;\">\n",
       "      <th></th>\n",
       "      <th>min(numberOfRoutes)</th>\n",
       "      <th>max(numberOfRoutes)</th>\n",
       "      <th>avg(numberOfRoutes)</th>\n",
       "      <th>stdev(numberOfRoutes)</th>\n",
       "    </tr>\n",
       "  </thead>\n",
       "  <tbody>\n",
       "    <tr>\n",
       "      <th>0</th>\n",
       "      <td>1</td>\n",
       "      <td>307</td>\n",
       "      <td>20.905363</td>\n",
       "      <td>38.287309</td>\n",
       "    </tr>\n",
       "  </tbody>\n",
       "</table>\n",
       "</div>"
      ],
      "text/plain": [
       "   min(numberOfRoutes)  max(numberOfRoutes)  avg(numberOfRoutes)  \\\n",
       "0                    1                  307            20.905363   \n",
       "\n",
       "   stdev(numberOfRoutes)  \n",
       "0              38.287309  "
      ]
     },
     "execution_count": 77,
     "metadata": {},
     "output_type": "execute_result"
    }
   ],
   "source": [
    "query ='MATCH (a:Airport)-[:HAS_ROUTE]->(:Airport) WITH a, count(*) AS numberOfRoutes RETURN min(numberOfRoutes), max(numberOfRoutes), avg(numberOfRoutes), stdev(numberOfRoutes)'\n",
    "gds.run_cypher(query)"
   ]
  },
  {
   "cell_type": "markdown",
   "id": "a6a0b0c6",
   "metadata": {},
   "source": [
    "Nous pouvons obtenir les statistiques sur la longueur des vols entre les aéroports :"
   ]
  },
  {
   "cell_type": "code",
   "execution_count": 78,
   "id": "1fb4ddac",
   "metadata": {
    "scrolled": true
   },
   "outputs": [
    {
     "data": {
      "text/html": [
       "<div>\n",
       "<style scoped>\n",
       "    .dataframe tbody tr th:only-of-type {\n",
       "        vertical-align: middle;\n",
       "    }\n",
       "\n",
       "    .dataframe tbody tr th {\n",
       "        vertical-align: top;\n",
       "    }\n",
       "\n",
       "    .dataframe thead th {\n",
       "        text-align: right;\n",
       "    }\n",
       "</style>\n",
       "<table border=\"1\" class=\"dataframe\">\n",
       "  <thead>\n",
       "    <tr style=\"text-align: right;\">\n",
       "      <th></th>\n",
       "      <th>min(routeDistance)</th>\n",
       "      <th>max(routeDistance)</th>\n",
       "      <th>avg(routeDistance)</th>\n",
       "      <th>stdev(routeDistance)</th>\n",
       "    </tr>\n",
       "  </thead>\n",
       "  <tbody>\n",
       "    <tr>\n",
       "      <th>0</th>\n",
       "      <td>2</td>\n",
       "      <td>9523</td>\n",
       "      <td>1262.169307</td>\n",
       "      <td>1336.52411</td>\n",
       "    </tr>\n",
       "  </tbody>\n",
       "</table>\n",
       "</div>"
      ],
      "text/plain": [
       "   min(routeDistance)  max(routeDistance)  avg(routeDistance)  \\\n",
       "0                   2                9523         1262.169307   \n",
       "\n",
       "   stdev(routeDistance)  \n",
       "0            1336.52411  "
      ]
     },
     "execution_count": 78,
     "metadata": {},
     "output_type": "execute_result"
    }
   ],
   "source": [
    "query ='MATCH (:Airport)-[r:HAS_ROUTE]->(:Airport) WITH r.distance AS routeDistance RETURN min(routeDistance), max(routeDistance), avg(routeDistance), stdev(routeDistance)'\n",
    "gds.run_cypher(query)"
   ]
  },
  {
   "cell_type": "markdown",
   "id": "696e8964",
   "metadata": {},
   "source": [
    "#### Projection de graphe :"
   ]
  },
  {
   "cell_type": "markdown",
   "id": "f9b0cb6e",
   "metadata": {},
   "source": [
    "La première étape pour exécuter n'importe quel algorithme GDS dans Neo4j consiste à créer une projection de graphe sous un nom défini par l'utilisateur. \n",
    "Ces projections de graphe, enregistrées dans le catalogue de graphes sous un nom spécifique choisi par l'utilisateur, sont des sous-ensembles de notre graphe complet. \n",
    "Elles sont conçues pour être utilisées dans le calcul des résultats à l'aide des algorithmes GDS. \n",
    "Une première méthode est d'utiliser une requête cypher pour creer cette projection :"
   ]
  },
  {
   "cell_type": "code",
   "execution_count": 80,
   "id": "02d93043",
   "metadata": {},
   "outputs": [
    {
     "data": {
      "text/html": [
       "<div>\n",
       "<style scoped>\n",
       "    .dataframe tbody tr th:only-of-type {\n",
       "        vertical-align: middle;\n",
       "    }\n",
       "\n",
       "    .dataframe tbody tr th {\n",
       "        vertical-align: top;\n",
       "    }\n",
       "\n",
       "    .dataframe thead th {\n",
       "        text-align: right;\n",
       "    }\n",
       "</style>\n",
       "<table border=\"1\" class=\"dataframe\">\n",
       "  <thead>\n",
       "    <tr style=\"text-align: right;\">\n",
       "      <th></th>\n",
       "      <th>graphName</th>\n",
       "      <th>nodeProjection</th>\n",
       "      <th>nodeCount</th>\n",
       "      <th>relationshipProjection</th>\n",
       "      <th>relationshipCount</th>\n",
       "    </tr>\n",
       "  </thead>\n",
       "  <tbody>\n",
       "    <tr>\n",
       "      <th>0</th>\n",
       "      <td>routes2</td>\n",
       "      <td>{'Airport': {'label': 'Airport', 'properties':...</td>\n",
       "      <td>3503</td>\n",
       "      <td>{'HAS_ROUTE': {'orientation': 'NATURAL', 'inde...</td>\n",
       "      <td>46389</td>\n",
       "    </tr>\n",
       "  </tbody>\n",
       "</table>\n",
       "</div>"
      ],
      "text/plain": [
       "  graphName                                     nodeProjection  nodeCount  \\\n",
       "0   routes2  {'Airport': {'label': 'Airport', 'properties':...       3503   \n",
       "\n",
       "                              relationshipProjection  relationshipCount  \n",
       "0  {'HAS_ROUTE': {'orientation': 'NATURAL', 'inde...              46389  "
      ]
     },
     "execution_count": 80,
     "metadata": {},
     "output_type": "execute_result"
    }
   ],
   "source": [
    "query = \"\"\"CALL gds.graph.project(\n",
    "                'routes2',\n",
    "                'Airport',\n",
    "                'HAS_ROUTE'\n",
    "            )\n",
    "            YIELD\n",
    "                graphName, nodeProjection, nodeCount, relationshipProjection, relationshipCount\n",
    "\"\"\"\n",
    "\n",
    "gds.run_cypher(query)"
   ]
  },
  {
   "cell_type": "markdown",
   "id": "340bb2aa",
   "metadata": {},
   "source": [
    "Une deuxième méthode est d'utiliser le client GDS :"
   ]
  },
  {
   "cell_type": "code",
   "execution_count": 81,
   "id": "366af818",
   "metadata": {},
   "outputs": [],
   "source": [
    "G, res = gds.graph.project(\n",
    "    'airports',                 \n",
    "    'Airport',   \n",
    "    \"HAS_ROUTE\"                            \n",
    ")"
   ]
  },
  {
   "cell_type": "markdown",
   "id": "f06337bc",
   "metadata": {},
   "source": [
    "Nous avons crée une projection de graphe appelé \"airport\" sur les noeuds de type \"Airport\" et les relations \"HAS_ROUTE\". Cette requête crée deux variables : \n",
    "-\"G\" : Cette variable contient le graphe projeté résultant de la requête gds.graph.project. C'est une instance de graphe dans le cadre de Neo4j. On va utiliser G pour exécuter des algorithmes graphiques tels que PageRank sur ce graphe.\n",
    "-\"res\" : Cette variable contient des informations sur la projection du graphe et éventuellement des métadonnées. Elle est utilisée pour stocker le résultat ou les détails de l'opération de projection du graphe. "
   ]
  },
  {
   "cell_type": "code",
   "execution_count": 82,
   "id": "b9859d79",
   "metadata": {},
   "outputs": [
    {
     "data": {
      "text/plain": [
       "pandas.core.series.Series"
      ]
     },
     "execution_count": 82,
     "metadata": {},
     "output_type": "execute_result"
    }
   ],
   "source": [
    "type(res)"
   ]
  },
  {
   "cell_type": "code",
   "execution_count": 83,
   "id": "e4e3a31b",
   "metadata": {},
   "outputs": [
    {
     "name": "stdout",
     "output_type": "stream",
     "text": [
      "nodeProjection            {'Airport': {'label': 'Airport', 'properties':...\n",
      "relationshipProjection    {'HAS_ROUTE': {'orientation': 'NATURAL', 'inde...\n",
      "graphName                                                          airports\n",
      "nodeCount                                                              3503\n",
      "relationshipCount                                                     46389\n",
      "projectMillis                                                           124\n",
      "Name: 0, dtype: object\n"
     ]
    }
   ],
   "source": [
    "print(res)"
   ]
  },
  {
   "cell_type": "markdown",
   "id": "caf69a0c",
   "metadata": {},
   "source": [
    "On a crée l'objet graphe G et on peut utiliser plusieurs méthodes sur ce graphe. On peut compter le nombre de noeuds et de relations dans ce graphe (uniquement les noeuds \"Airport\" et les relation \"HAS-ROUTE\")"
   ]
  },
  {
   "cell_type": "code",
   "execution_count": 86,
   "id": "16073db7",
   "metadata": {},
   "outputs": [
    {
     "data": {
      "text/plain": [
       "(3503, 46389)"
      ]
     },
     "execution_count": 86,
     "metadata": {},
     "output_type": "execute_result"
    }
   ],
   "source": [
    "G.node_count(), G.relationship_count()"
   ]
  },
  {
   "cell_type": "markdown",
   "id": "092bc8f5",
   "metadata": {},
   "source": [
    "On peut calculer la distribution des degrés des nœuds dans le graphe G :"
   ]
  },
  {
   "cell_type": "code",
   "execution_count": 89,
   "id": "b06816c2",
   "metadata": {
    "scrolled": true
   },
   "outputs": [
    {
     "data": {
      "text/plain": [
       "p99     175.000000\n",
       "min       0.000000\n",
       "max     307.000000\n",
       "mean     13.242649\n",
       "p90      38.000000\n",
       "p50       2.000000\n",
       "p999    282.000000\n",
       "p95      71.000000\n",
       "p75       9.000000\n",
       "dtype: float64"
      ]
     },
     "execution_count": 89,
     "metadata": {},
     "output_type": "execute_result"
    }
   ],
   "source": [
    "G.degree_distribution()"
   ]
  },
  {
   "cell_type": "markdown",
   "id": "e0ee9a67",
   "metadata": {},
   "source": [
    "On peut aussi appliquer les algorithmes de graphe qui existents sur Neo4j. Ici on va appliquer le PageRank qui est utilisé pour évaluer l'importance relative des nœuds dans un graphe. Le calcul du PageRank dans Neo4j repose sur le principe que les nœuds qui sont liés à de nombreux autres nœuds importants sont eux-mêmes importants. L'algorithme attribue à chaque nœud un score de PageRank en fonction de ces liens et de la manière dont ils sont connectés à d'autres nœuds. "
   ]
  },
  {
   "cell_type": "raw",
   "id": "e111c4b1",
   "metadata": {},
   "source": [
    "Chaque algorithme possède 4 modes d'exécusion :\n",
    "-stats\n",
    "-stream\n",
    "-mutate\n",
    "-write"
   ]
  },
  {
   "cell_type": "markdown",
   "id": "97591d5d",
   "metadata": {},
   "source": [
    "Le mode \"stats\" peut être utile pour évaluer les performances d'un algorithme sans modifier le graphe en mémoire. Lorsque vous exécutez un algorithme dans ce mode, une seule ligne contenant un résumé des statistiques de l'algorithme est renvoyée."
   ]
  },
  {
   "cell_type": "code",
   "execution_count": 98,
   "id": "2b6da999",
   "metadata": {
    "scrolled": false
   },
   "outputs": [
    {
     "name": "stdout",
     "output_type": "stream",
     "text": [
      "ranIterations                                                            20\n",
      "didConverge                                                           False\n",
      "centralityDistribution    {'p99': 5.497771263122559, 'min': 0.1499996185...\n",
      "postProcessingMillis                                                     67\n",
      "preProcessingMillis                                                       0\n",
      "computeMillis                                                           240\n",
      "configuration             {'jobId': '456e91b5-443c-4e2f-b038-f05183458ac...\n",
      "Name: 0, dtype: object\n"
     ]
    }
   ],
   "source": [
    "result = gds.pageRank.stats(\n",
    "    G,\n",
    "    maxIterations=20,\n",
    "    dampingFactor=0.85\n",
    ")\n",
    "\n",
    "print(result)"
   ]
  },
  {
   "cell_type": "markdown",
   "id": "cbd8c14d",
   "metadata": {},
   "source": [
    "Le mode \"stream\" renvoie les résultats d'un algorithme sous forme de lignes de résultats Cypher. Cela est similaire à la manière dont fonctionnent les requêtes de lecture Cypher standard."
   ]
  },
  {
   "cell_type": "code",
   "execution_count": 99,
   "id": "00b61e6f",
   "metadata": {
    "scrolled": true
   },
   "outputs": [
    {
     "name": "stdout",
     "output_type": "stream",
     "text": [
      "      nodeId      score\n",
      "0       8627  10.389948\n",
      "1       8628   2.651157\n",
      "2       8629   3.397036\n",
      "3       8630   2.913093\n",
      "4       8631   5.587850\n",
      "...      ...        ...\n",
      "3498   12125   0.174984\n",
      "3499   12126   0.174984\n",
      "3500   12127   0.174984\n",
      "3501   12128   0.174984\n",
      "3502   12129   4.808279\n",
      "\n",
      "[3503 rows x 2 columns]\n"
     ]
    }
   ],
   "source": [
    "results = gds.pageRank.stream(\n",
    "    G,\n",
    "    maxIterations=20,\n",
    "    dampingFactor=0.85\n",
    ")\n",
    "\n",
    "print(results)"
   ]
  },
  {
   "cell_type": "markdown",
   "id": "f49601fe",
   "metadata": {},
   "source": [
    "Le mode \"mutate\" agit sur le graphe en mémoire et le met à jour avec une nouvelle propriété spécifiée à l'aide du paramètre de configuration \"mutateProperty\". La nouvelle propriété ne doit pas déjà exister dans le graphe en mémoire."
   ]
  },
  {
   "cell_type": "code",
   "execution_count": 100,
   "id": "d452bd8b",
   "metadata": {
    "scrolled": true
   },
   "outputs": [
    {
     "name": "stdout",
     "output_type": "stream",
     "text": [
      "mutateMillis                                                              2\n",
      "nodePropertiesWritten                                                  3503\n",
      "ranIterations                                                            20\n",
      "didConverge                                                           False\n",
      "centralityDistribution    {'p99': 5.497771263122559, 'min': 0.1499996185...\n",
      "postProcessingMillis                                                    192\n",
      "preProcessingMillis                                                       0\n",
      "computeMillis                                                           307\n",
      "configuration             {'jobId': 'c6b3255f-e68b-40c9-af29-8789658ad09...\n",
      "Name: 0, dtype: object\n"
     ]
    }
   ],
   "source": [
    "result = gds.pageRank.mutate(\n",
    "    G,\n",
    "    mutateProperty=\"pageRankScore\",\n",
    "    maxIterations=20,\n",
    "    dampingFactor=0.85\n",
    ")\n",
    "\n",
    "print(result)"
   ]
  },
  {
   "cell_type": "markdown",
   "id": "31806d25",
   "metadata": {},
   "source": [
    "Le mode \"écriture\" écrit les résultats du calcul de l'algorithme dans la base de données Neo4j. Les données écrites peuvent être des propriétés de nœuds (comme les scores PageRank), de nouvelles relations (comme les similarités entre nœuds dans le cas de la Similarité entre Nœuds), ou des propriétés de relations (uniquement pour les relations nouvellement créées)."
   ]
  },
  {
   "cell_type": "code",
   "execution_count": 101,
   "id": "3a94d727",
   "metadata": {},
   "outputs": [
    {
     "name": "stdout",
     "output_type": "stream",
     "text": [
      "writeMillis                                                            1472\n",
      "nodePropertiesWritten                                                  3503\n",
      "ranIterations                                                            20\n",
      "didConverge                                                           False\n",
      "centralityDistribution    {'p99': 5.497771263122559, 'min': 0.1499996185...\n",
      "postProcessingMillis                                                    187\n",
      "preProcessingMillis                                                       0\n",
      "computeMillis                                                           213\n",
      "configuration             {'maxIterations': 20, 'writeConcurrency': 4, '...\n",
      "Name: 0, dtype: object\n"
     ]
    }
   ],
   "source": [
    "result = gds.pageRank.write(\n",
    "    G,\n",
    "    writeProperty=\"pageRankScore\",\n",
    "    maxIterations=20,\n",
    "    dampingFactor=0.85\n",
    ")\n",
    "\n",
    "print(result)"
   ]
  },
  {
   "cell_type": "markdown",
   "id": "96bc28c2",
   "metadata": {},
   "source": [
    "Après avoir suivi l'exemple, à la fois les graphes en mémoire et les données dans la base de données Neo4j peuvent être supprimés."
   ]
  },
  {
   "cell_type": "code",
   "execution_count": 102,
   "id": "886a81be",
   "metadata": {
    "scrolled": false
   },
   "outputs": [
    {
     "name": "stdout",
     "output_type": "stream",
     "text": [
      "graphName                                                         airports\n",
      "database                                                             neo4j\n",
      "memoryUsage                                                               \n",
      "sizeInBytes                                                             -1\n",
      "nodeCount                                                             3503\n",
      "relationshipCount                                                    46389\n",
      "configuration            {'relationshipProjection': {'HAS_ROUTE': {'ori...\n",
      "density                                                           0.003781\n",
      "creationTime                           2023-09-07T08:08:06.562479904+00:00\n",
      "modificationTime                       2023-09-07T09:07:40.679523334+00:00\n",
      "schema                   {'graphProperties': {}, 'relationships': {'HAS...\n",
      "schemaWithOrientation    {'graphProperties': {}, 'relationships': {'HAS...\n",
      "Name: 0, dtype: object\n"
     ]
    },
    {
     "data": {
      "text/html": [
       "<div>\n",
       "<style scoped>\n",
       "    .dataframe tbody tr th:only-of-type {\n",
       "        vertical-align: middle;\n",
       "    }\n",
       "\n",
       "    .dataframe tbody tr th {\n",
       "        vertical-align: top;\n",
       "    }\n",
       "\n",
       "    .dataframe thead th {\n",
       "        text-align: right;\n",
       "    }\n",
       "</style>\n",
       "<table border=\"1\" class=\"dataframe\">\n",
       "  <thead>\n",
       "    <tr style=\"text-align: right;\">\n",
       "      <th></th>\n",
       "    </tr>\n",
       "  </thead>\n",
       "  <tbody>\n",
       "  </tbody>\n",
       "</table>\n",
       "</div>"
      ],
      "text/plain": [
       "Empty DataFrame\n",
       "Columns: []\n",
       "Index: []"
      ]
     },
     "execution_count": 102,
     "metadata": {},
     "output_type": "execute_result"
    }
   ],
   "source": [
    "result = gds.graph.drop(G)\n",
    "print(result)\n",
    "\n",
    "gds.run_cypher(\"\"\"\n",
    "    MATCH (n)\n",
    "    DETACH DELETE n\n",
    "\"\"\")"
   ]
  },
  {
   "cell_type": "markdown",
   "id": "bbf39e34",
   "metadata": {},
   "source": [
    "On ferme la connexion :"
   ]
  },
  {
   "cell_type": "code",
   "execution_count": 103,
   "id": "1bbe8819",
   "metadata": {},
   "outputs": [],
   "source": [
    "gds.close()"
   ]
  },
  {
   "cell_type": "markdown",
   "id": "d0c015a0",
   "metadata": {},
   "source": [
    "### Partie 2 : Importer un des données RDF à partir de Wikidata "
   ]
  },
  {
   "cell_type": "markdown",
   "id": "0e7a64ff",
   "metadata": {},
   "source": [
    "#### Connection à une Blank Sanbox : "
   ]
  },
  {
   "cell_type": "code",
   "execution_count": 50,
   "id": "95bb2d86",
   "metadata": {},
   "outputs": [],
   "source": [
    "url = 'bolt://44.205.7.175:7687'\n",
    "pwd = 'hull-offenders-trips'"
   ]
  },
  {
   "cell_type": "code",
   "execution_count": 51,
   "id": "90502301",
   "metadata": {},
   "outputs": [],
   "source": [
    "gds = GraphDataScience(url, auth=(\"neo4j\", pwd))"
   ]
  },
  {
   "cell_type": "markdown",
   "id": "fb694ff8",
   "metadata": {},
   "source": [
    "#### Intialiser Neosemantics :"
   ]
  },
  {
   "cell_type": "code",
   "execution_count": 52,
   "id": "e1a8e2df",
   "metadata": {
    "scrolled": true
   },
   "outputs": [
    {
     "data": {
      "text/html": [
       "<div>\n",
       "<style scoped>\n",
       "    .dataframe tbody tr th:only-of-type {\n",
       "        vertical-align: middle;\n",
       "    }\n",
       "\n",
       "    .dataframe tbody tr th {\n",
       "        vertical-align: top;\n",
       "    }\n",
       "\n",
       "    .dataframe thead th {\n",
       "        text-align: right;\n",
       "    }\n",
       "</style>\n",
       "<table border=\"1\" class=\"dataframe\">\n",
       "  <thead>\n",
       "    <tr style=\"text-align: right;\">\n",
       "      <th></th>\n",
       "      <th>param</th>\n",
       "      <th>value</th>\n",
       "    </tr>\n",
       "  </thead>\n",
       "  <tbody>\n",
       "    <tr>\n",
       "      <th>0</th>\n",
       "      <td>handleVocabUris</td>\n",
       "      <td>IGNORE</td>\n",
       "    </tr>\n",
       "    <tr>\n",
       "      <th>1</th>\n",
       "      <td>handleMultival</td>\n",
       "      <td>OVERWRITE</td>\n",
       "    </tr>\n",
       "    <tr>\n",
       "      <th>2</th>\n",
       "      <td>handleRDFTypes</td>\n",
       "      <td>LABELS</td>\n",
       "    </tr>\n",
       "    <tr>\n",
       "      <th>3</th>\n",
       "      <td>keepLangTag</td>\n",
       "      <td>False</td>\n",
       "    </tr>\n",
       "    <tr>\n",
       "      <th>4</th>\n",
       "      <td>keepCustomDataTypes</td>\n",
       "      <td>False</td>\n",
       "    </tr>\n",
       "    <tr>\n",
       "      <th>5</th>\n",
       "      <td>applyNeo4jNaming</td>\n",
       "      <td>False</td>\n",
       "    </tr>\n",
       "    <tr>\n",
       "      <th>6</th>\n",
       "      <td>baseSchemaNamespace</td>\n",
       "      <td>neo4j://graph.schema#</td>\n",
       "    </tr>\n",
       "    <tr>\n",
       "      <th>7</th>\n",
       "      <td>baseSchemaPrefix</td>\n",
       "      <td>n4sch</td>\n",
       "    </tr>\n",
       "    <tr>\n",
       "      <th>8</th>\n",
       "      <td>classLabel</td>\n",
       "      <td>Class</td>\n",
       "    </tr>\n",
       "    <tr>\n",
       "      <th>9</th>\n",
       "      <td>subClassOfRel</td>\n",
       "      <td>SCO</td>\n",
       "    </tr>\n",
       "    <tr>\n",
       "      <th>10</th>\n",
       "      <td>dataTypePropertyLabel</td>\n",
       "      <td>Property</td>\n",
       "    </tr>\n",
       "    <tr>\n",
       "      <th>11</th>\n",
       "      <td>objectPropertyLabel</td>\n",
       "      <td>Relationship</td>\n",
       "    </tr>\n",
       "    <tr>\n",
       "      <th>12</th>\n",
       "      <td>subPropertyOfRel</td>\n",
       "      <td>SPO</td>\n",
       "    </tr>\n",
       "    <tr>\n",
       "      <th>13</th>\n",
       "      <td>domainRel</td>\n",
       "      <td>DOMAIN</td>\n",
       "    </tr>\n",
       "    <tr>\n",
       "      <th>14</th>\n",
       "      <td>rangeRel</td>\n",
       "      <td>RANGE</td>\n",
       "    </tr>\n",
       "  </tbody>\n",
       "</table>\n",
       "</div>"
      ],
      "text/plain": [
       "                    param                  value\n",
       "0         handleVocabUris                 IGNORE\n",
       "1          handleMultival              OVERWRITE\n",
       "2          handleRDFTypes                 LABELS\n",
       "3             keepLangTag                  False\n",
       "4     keepCustomDataTypes                  False\n",
       "5        applyNeo4jNaming                  False\n",
       "6     baseSchemaNamespace  neo4j://graph.schema#\n",
       "7        baseSchemaPrefix                  n4sch\n",
       "8              classLabel                  Class\n",
       "9           subClassOfRel                    SCO\n",
       "10  dataTypePropertyLabel               Property\n",
       "11    objectPropertyLabel           Relationship\n",
       "12       subPropertyOfRel                    SPO\n",
       "13              domainRel                 DOMAIN\n",
       "14               rangeRel                  RANGE"
      ]
     },
     "execution_count": 52,
     "metadata": {},
     "output_type": "execute_result"
    }
   ],
   "source": [
    "query = 'CALL n10s.graphconfig.init({handleVocabUris: \"IGNORE\"})'\n",
    "gds.run_cypher(query)"
   ]
  },
  {
   "cell_type": "markdown",
   "id": "122f7f7d",
   "metadata": {},
   "source": [
    "#### Creation de la contrainte d'unicité des URI :"
   ]
  },
  {
   "cell_type": "code",
   "execution_count": 53,
   "id": "0780c7f3",
   "metadata": {},
   "outputs": [
    {
     "data": {
      "text/html": [
       "<div>\n",
       "<style scoped>\n",
       "    .dataframe tbody tr th:only-of-type {\n",
       "        vertical-align: middle;\n",
       "    }\n",
       "\n",
       "    .dataframe tbody tr th {\n",
       "        vertical-align: top;\n",
       "    }\n",
       "\n",
       "    .dataframe thead th {\n",
       "        text-align: right;\n",
       "    }\n",
       "</style>\n",
       "<table border=\"1\" class=\"dataframe\">\n",
       "  <thead>\n",
       "    <tr style=\"text-align: right;\">\n",
       "      <th></th>\n",
       "    </tr>\n",
       "  </thead>\n",
       "  <tbody>\n",
       "  </tbody>\n",
       "</table>\n",
       "</div>"
      ],
      "text/plain": [
       "Empty DataFrame\n",
       "Columns: []\n",
       "Index: []"
      ]
     },
     "execution_count": 53,
     "metadata": {},
     "output_type": "execute_result"
    }
   ],
   "source": [
    "query = '''\n",
    "CREATE CONSTRAINT n10s_unique_uri FOR (r:Resource) REQUIRE r.uri IS UNIQUE\n",
    "  '''\n",
    "gds.run_cypher(query)"
   ]
  },
  {
   "cell_type": "markdown",
   "id": "dc0e3380",
   "metadata": {},
   "source": [
    "#### Inspection préliminaire du graphe :"
   ]
  },
  {
   "cell_type": "markdown",
   "id": "6c4c15fb",
   "metadata": {},
   "source": [
    "Nous allons importer des données RDF à partir de Wikidata. Nous allons utiliser l'API Wikidata Query Service (https://query.wikidata.org). Nous allons utiliser une requête qui interroge la base de données Wikidata pour obtenir les noms des restaurants situés en France, en spécifiant également la ville où ils se trouvent. La requête SPARQL est la suivante : "
   ]
  },
  {
   "cell_type": "raw",
   "id": "43f36a52",
   "metadata": {},
   "source": [
    "SELECT ?restaurantLabel ?cityLabel WHERE {\n",
    "\n",
    "  ?restaurant (wdt:P31/(wdt:P279*)) wd:Q11707; # Les restaurants sélectionnés doivent avoir une instance (P31) qui                                                   soit une sous-classe (P279*) de \"Q11707\" (qui représente les                                                       restaurants dans Wikidata).\n",
    "  \n",
    "    wdt:P17 wd:Q142;                           # Les restaurants doivent être situés dans un pays (P17) dont                                                         l'identifiant est \"Q142\" (qui représente la France).\n",
    "    \n",
    "    wdt:P131 ?city.                            # Les restaurants doivent être situés dans une ville spécifique,                                                     représentée par la variable \"?city\"\n",
    "  SERVICE wikibase:label {\n",
    "    bd:serviceParam wikibase:language \"en\".\n",
    "    ?restaurant rdfs:label ?restaurantLabel.\n",
    "    ?city rdfs:label ?cityLabel.\n",
    "  }\n",
    "}"
   ]
  },
  {
   "cell_type": "code",
   "execution_count": 58,
   "id": "d44b5948",
   "metadata": {},
   "outputs": [
    {
     "data": {
      "text/html": [
       "<div>\n",
       "<style scoped>\n",
       "    .dataframe tbody tr th:only-of-type {\n",
       "        vertical-align: middle;\n",
       "    }\n",
       "\n",
       "    .dataframe tbody tr th {\n",
       "        vertical-align: top;\n",
       "    }\n",
       "\n",
       "    .dataframe thead th {\n",
       "        text-align: right;\n",
       "    }\n",
       "</style>\n",
       "<table border=\"1\" class=\"dataframe\">\n",
       "  <thead>\n",
       "    <tr style=\"text-align: right;\">\n",
       "      <th></th>\n",
       "      <th>nodes</th>\n",
       "      <th>relationships</th>\n",
       "    </tr>\n",
       "  </thead>\n",
       "  <tbody>\n",
       "    <tr>\n",
       "      <th>0</th>\n",
       "      <td>[(name, uri), (name, uri), (name, uri), (name,...</td>\n",
       "      <td>[(), (), (), (), (), (), (), (), (), (), (), (...</td>\n",
       "    </tr>\n",
       "  </tbody>\n",
       "</table>\n",
       "</div>"
      ],
      "text/plain": [
       "                                               nodes  \\\n",
       "0  [(name, uri), (name, uri), (name, uri), (name,...   \n",
       "\n",
       "                                       relationships  \n",
       "0  [(), (), (), (), (), (), (), (), (), (), (), (...  "
      ]
     },
     "execution_count": 58,
     "metadata": {},
     "output_type": "execute_result"
    }
   ],
   "source": [
    "query = '''\n",
    "WITH 'PREFIX sch: <http://schema.org/> \n",
    "CONSTRUCT{ ?item a sch:Restaurant; \n",
    "            sch:name ?restaurantName; \n",
    "            sch:location ?location.            \t\n",
    "            ?location a sch:City; \n",
    "           \tsch:name ?cityName  } \n",
    "WHERE { ?item wdt:P31/wdt:P279* wd:Q11707.\n",
    "        ?item wdt:P17 wd:Q142 .\n",
    "        ?item rdfs:label ?restaurantName .\n",
    "        ?item wdt:P131 ?location .\n",
    "        ?location rdfs:label ?cityName \n",
    "        filter(lang(?cityName)=\"en\")   }\n",
    "' AS sparql\n",
    "CALL n10s.rdf.preview.fetch(\n",
    "  \"https://query.wikidata.org/sparql?query=\" +\n",
    "     apoc.text.urlencode(sparql),\"JSON-LD\",\n",
    "  { headerParams: { Accept: \"application/ld+json\"}} )\n",
    "YIELD nodes, relationships\n",
    "RETURN nodes, relationships\n",
    "'''\n",
    "gds.run_cypher(query)"
   ]
  },
  {
   "cell_type": "markdown",
   "id": "9b2db484",
   "metadata": {},
   "source": [
    "#### Insertion des données dans le graphe : "
   ]
  },
  {
   "cell_type": "code",
   "execution_count": 59,
   "id": "eb378df9",
   "metadata": {
    "scrolled": true
   },
   "outputs": [
    {
     "data": {
      "text/html": [
       "<div>\n",
       "<style scoped>\n",
       "    .dataframe tbody tr th:only-of-type {\n",
       "        vertical-align: middle;\n",
       "    }\n",
       "\n",
       "    .dataframe tbody tr th {\n",
       "        vertical-align: top;\n",
       "    }\n",
       "\n",
       "    .dataframe thead th {\n",
       "        text-align: right;\n",
       "    }\n",
       "</style>\n",
       "<table border=\"1\" class=\"dataframe\">\n",
       "  <thead>\n",
       "    <tr style=\"text-align: right;\">\n",
       "      <th></th>\n",
       "      <th>terminationStatus</th>\n",
       "      <th>triplesLoaded</th>\n",
       "    </tr>\n",
       "  </thead>\n",
       "  <tbody>\n",
       "    <tr>\n",
       "      <th>0</th>\n",
       "      <td>OK</td>\n",
       "      <td>9605</td>\n",
       "    </tr>\n",
       "  </tbody>\n",
       "</table>\n",
       "</div>"
      ],
      "text/plain": [
       "  terminationStatus  triplesLoaded\n",
       "0                OK           9605"
      ]
     },
     "execution_count": 59,
     "metadata": {},
     "output_type": "execute_result"
    }
   ],
   "source": [
    "query = '''\n",
    "WITH 'PREFIX sch: <http://schema.org/> \n",
    "CONSTRUCT{ ?item a sch:Restaurant; \n",
    "            sch:name ?restaurantName; \n",
    "            sch:location ?location.            \t\n",
    "            ?location a sch:City; \n",
    "           \tsch:name ?cityName  } \n",
    "WHERE { ?item wdt:P31/wdt:P279* wd:Q11707.\n",
    "        ?item wdt:P17 wd:Q142 .\n",
    "        ?item rdfs:label ?restaurantName .\n",
    "        ?item wdt:P131 ?location .\n",
    "        ?location rdfs:label ?cityName \n",
    "        filter(lang(?cityName)=\"en\")   }\n",
    "        ' AS sparql\n",
    "CALL n10s.rdf.import.fetch(\n",
    "  \"https://query.wikidata.org/sparql?query=\" +\n",
    "     apoc.text.urlencode(sparql),\"JSON-LD\",\n",
    "  { headerParams: { Accept: \"application/ld+json\"}} )\n",
    "YIELD terminationStatus, triplesLoaded\n",
    "RETURN terminationStatus, triplesLoaded\n",
    "'''\n",
    "gds.run_cypher(query)\n"
   ]
  },
  {
   "cell_type": "markdown",
   "id": "fda04e24",
   "metadata": {},
   "source": [
    "#### Vérifier que les noeuds existent :"
   ]
  },
  {
   "cell_type": "code",
   "execution_count": 60,
   "id": "cb045f8b",
   "metadata": {},
   "outputs": [
    {
     "data": {
      "text/html": [
       "<div>\n",
       "<style scoped>\n",
       "    .dataframe tbody tr th:only-of-type {\n",
       "        vertical-align: middle;\n",
       "    }\n",
       "\n",
       "    .dataframe tbody tr th {\n",
       "        vertical-align: top;\n",
       "    }\n",
       "\n",
       "    .dataframe thead th {\n",
       "        text-align: right;\n",
       "    }\n",
       "</style>\n",
       "<table border=\"1\" class=\"dataframe\">\n",
       "  <thead>\n",
       "    <tr style=\"text-align: right;\">\n",
       "      <th></th>\n",
       "      <th>COUNT(*)</th>\n",
       "    </tr>\n",
       "  </thead>\n",
       "  <tbody>\n",
       "    <tr>\n",
       "      <th>0</th>\n",
       "      <td>525</td>\n",
       "    </tr>\n",
       "  </tbody>\n",
       "</table>\n",
       "</div>"
      ],
      "text/plain": [
       "   COUNT(*)\n",
       "0       525"
      ]
     },
     "execution_count": 60,
     "metadata": {},
     "output_type": "execute_result"
    }
   ],
   "source": [
    "query = '''\n",
    "MATCH (n:Restaurant) \n",
    "RETURN COUNT(*)\n",
    "'''\n",
    "gds.run_cypher(query)"
   ]
  },
  {
   "cell_type": "code",
   "execution_count": null,
   "id": "eea15055",
   "metadata": {},
   "outputs": [],
   "source": []
  }
 ],
 "metadata": {
  "kernelspec": {
   "display_name": "Python 3 (ipykernel)",
   "language": "python",
   "name": "python3"
  },
  "language_info": {
   "codemirror_mode": {
    "name": "ipython",
    "version": 3
   },
   "file_extension": ".py",
   "mimetype": "text/x-python",
   "name": "python",
   "nbconvert_exporter": "python",
   "pygments_lexer": "ipython3",
   "version": "3.9.13"
  }
 },
 "nbformat": 4,
 "nbformat_minor": 5
}
